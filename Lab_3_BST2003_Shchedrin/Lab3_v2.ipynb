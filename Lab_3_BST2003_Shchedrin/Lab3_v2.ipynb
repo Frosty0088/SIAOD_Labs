{
  "metadata": {
    "kernelspec": {
      "name": "python",
      "display_name": "Pyolite",
      "language": "python"
    },
    "language_info": {
      "codemirror_mode": {
        "name": "python",
        "version": 3
      },
      "file_extension": ".py",
      "mimetype": "text/x-python",
      "name": "python",
      "nbconvert_exporter": "python",
      "pygments_lexer": "ipython3",
      "version": "3.8"
    }
  },
  "nbformat_minor": 5,
  "nbformat": 4,
  "cells": [
    {
      "cell_type": "markdown",
      "source": "# Лабораторная работа №3\n## Выполнил студент группы БСТ2003 Щедрин Данила Алексеевич",
      "metadata": {},
      "id": "db4b50f0"
    },
    {
      "cell_type": "markdown",
      "source": "### Оглавление\n1. [Задание 1](#Задание-№1)\n2. [Задание 2](#Задание-№2)\n4. [Вывод](#Вывод)",
      "metadata": {},
      "id": "annual-symbol"
    },
    {
      "cell_type": "markdown",
      "source": "> Дополнительные модули, использованные при выполнение лабораторной",
      "metadata": {},
      "id": "independent-spirit"
    },
    {
      "cell_type": "code",
      "source": "from datetime import datetime as t\nimport collections\nfrom queue import PriorityQueue",
      "metadata": {},
      "execution_count": 5,
      "outputs": [],
      "id": "4839be2b"
    },
    {
      "cell_type": "markdown",
      "source": "### Задание №1\nРеализовать методы поиска подстроки в строке. Добавить возможность ввода строки и подстроки с клавиатуры. Предусмотреть возможность существования пробела. Реализовать возможность выбора опции чувствительности или нечувствительности к регистру. Оценить время работы каждого алгоритма поиска и сравнить его со временем работы стандартной функции поиска, используемой в выбранном языке программирования.",
      "metadata": {},
      "id": "inclusive-motorcycle"
    },
    {
      "cell_type": "markdown",
      "source": "#### Алгоритм Кнута-Морриса-Пратта",
      "metadata": {},
      "id": "interracial-communication"
    },
    {
      "cell_type": "code",
      "source": "def kmp(stroka,podstroka):\n    p = [0]*len(podstroka)\n    j = 0\n    i = 1\n\n    while i < len(podstroka):\n        if podstroka[j] == podstroka[i]:\n            p[i] = j+1\n            i += 1\n            j += 1\n        else:\n            if j == 0:\n                p[i] = 0;\n                i += 1\n            else:\n                j = p[j-1]\n\n    print(p)\n\n    m = len(podstroka)\n    n = len(stroka)\n\n    i = 0\n    j = 0\n    while i < n:\n        if stroka[i] == podstroka[j]:\n            i += 1\n            j += 1\n            if j == m:\n                print(f\"образ найден по индексу {i-(len(podstroka))}\")\n                break\n        else:\n            if j > 0:\n                j = p[j-1]\n            else:\n                i += 1\n\n    if i == n and j != m:\n        print(\"образ не найден\")\n        \nstroka = str(input(\"Введите строку: \"))\npodstroka = str(input(\"Введите подстроку: \"))\nans = (str(input(\"Чувствительность к регистру Да/Нет: \"))).lower()\nif ans == \"нет\":\n    start_time = t.now()\n    kmp(stroka.lower(),podstroka.lower())\n    print(t.now() - start_time)\nelif ans == \"да\": \n    start_time = t.now()\n    kmp(stroka,podstroka)\n    print(t.now() - start_time)\nelse: print(\"Введите корректный ответ\")    ",
      "metadata": {
        "trusted": true
      },
      "execution_count": 5,
      "outputs": [
        {
          "name": "stdout",
          "text": "Введите корректный ответ\n",
          "output_type": "stream"
        },
        {
          "output_type": "stream",
          "name": "stdin",
          "text": "Чувствительность к регистру Да/Нет:  Да\nВведите строку:  asdsa\nВведите подстроку:  Привет\n"
        }
      ],
      "id": "presidential-level"
    },
    {
      "cell_type": "markdown",
      "source": "#### Упрощенный алгоритм Бойера-Мура",
      "metadata": {},
      "id": "downtown-option"
    },
    {
      "cell_type": "code",
      "source": "def BM(stroka,podstroka):\n    # Этап 1: формирование таблицы смещений\n\n    S = set()  # уникальные символы в образе\n    M = len(podstroka) # число символов в образе\n    d = {}     # словарь смещений\n\n    for i in range(M-2, -1, -1): # итерации с предпоследнего символа\n        if podstroka[i] not in S:        # если символ еще не добавлен в таблицу\n            d[podstroka[i]] = M-i-1\n            S.add(podstroka[i])\n\n    if podstroka[M-1] not in S:     # отдельно формируем последний символ\n        d[podstroka[M-1]] = M\n\n    d['*'] = M              # смещения для прочих символов\n\n    print(d)\n\n    # Этап 2: поиск образа в строке\n\n    N = len(stroka)\n\n    if N >= M:\n        i = M-1       # счетчик проверяемого символа в строке\n\n        while(i < N):\n            k = 0\n            j = 0\n            flBreak = False\n            for j in range(M-1, -1, -1):\n                if stroka[i-k] != podstroka[j]:\n                    if j == M-1:\n                        off = d[stroka[i]] if d.get(stroka[i], False) else d['*']  # смещение, если не равен последний символ образа\n                    else:\n                        off = d[podstroka[j]]   # смещение, если не равен не последний символ образа\n\n                    i += off    # смещение счетчика строки\n                    flBreak = True  # если несовпадение символа, то flBreak = True\n                    break\n\n                k += 1          # смещение для сравниваемого символа в строке\n\n            if not flBreak:          # если дошли до начала образа, значит, все его символы совпали\n                print(f\"образ найден по индексу: {i-(M-1)}\")\n                break\n        else:\n            print(\"образ не найден\")\n    else:\n        print(\"образ не найден\")\n        \nstroka = str(input(\"Введите строку: \"))\npodstroka = str(input(\"Введите подстроку: \"))\nans = str(input(\"Чувствительность к регистру Да/Нет: \").lower())\nif ans == \"нет\":\n    start_time = t.now()\n    BM(stroka.lower(),podstroka.lower())\n    print(t.now() - start_time)\nelif ans == \"да\": \n    start_time = t.now()\n    BM(stroka,podstroka)\n    print(t.now() - start_time)\nelse: print(\"Введите корректный ответ\") ",
      "metadata": {
        "trusted": true
      },
      "execution_count": 4,
      "outputs": [
        {
          "ename": "<class 'AttributeError'>",
          "evalue": "'Future' object has no attribute 'lower'",
          "traceback": [
            "\u001b[0;31m---------------------------------------------------------------------------\u001b[0m",
            "\u001b[0;31mAttributeError\u001b[0m                            Traceback (most recent call last)",
            "Input \u001b[0;32mIn [4]\u001b[0m, in \u001b[0;36m<cell line: 54>\u001b[0;34m()\u001b[0m\n\u001b[1;32m     52\u001b[0m stroka \u001b[38;5;241m=\u001b[39m \u001b[38;5;28mstr\u001b[39m(\u001b[38;5;28minput\u001b[39m(\u001b[38;5;124m\"\u001b[39m\u001b[38;5;124mВведите строку: \u001b[39m\u001b[38;5;124m\"\u001b[39m))\n\u001b[1;32m     53\u001b[0m podstroka \u001b[38;5;241m=\u001b[39m \u001b[38;5;28mstr\u001b[39m(\u001b[38;5;28minput\u001b[39m(\u001b[38;5;124m\"\u001b[39m\u001b[38;5;124mВведите подстроку: \u001b[39m\u001b[38;5;124m\"\u001b[39m))\n\u001b[0;32m---> 54\u001b[0m ans \u001b[38;5;241m=\u001b[39m \u001b[38;5;28mstr\u001b[39m(\u001b[38;5;28;43minput\u001b[39;49m\u001b[43m(\u001b[49m\u001b[38;5;124;43m\"\u001b[39;49m\u001b[38;5;124;43mЧувствительность к регистру Да/Нет: \u001b[39;49m\u001b[38;5;124;43m\"\u001b[39;49m\u001b[43m)\u001b[49m\u001b[38;5;241;43m.\u001b[39;49m\u001b[43mlower\u001b[49m())\n\u001b[1;32m     55\u001b[0m \u001b[38;5;28;01mif\u001b[39;00m ans \u001b[38;5;241m==\u001b[39m \u001b[38;5;124m\"\u001b[39m\u001b[38;5;124mнет\u001b[39m\u001b[38;5;124m\"\u001b[39m:\n\u001b[1;32m     56\u001b[0m     start_time \u001b[38;5;241m=\u001b[39m t\u001b[38;5;241m.\u001b[39mnow()\n",
            "\u001b[0;31mAttributeError\u001b[0m: 'Future' object has no attribute 'lower'"
          ],
          "output_type": "error"
        },
        {
          "output_type": "stream",
          "name": "stdin",
          "text": "Чувствительность к регистру Да/Нет:  Да\n"
        }
      ],
      "id": "respective-reggae"
    },
    {
      "cell_type": "markdown",
      "source": "### Задание №2\nНаписать программу, определяющую, является ли данное\nрасположение «решаемым», то есть можно ли из него за конечное число\nшагов перейти к правильному. Если это возможно, то необходимо найти хотя\nбы одно решение - последовательность движений, после которой числа будут\nрасположены в правильном порядке.\n#### Входные данные: массив чисел, представляющий собой расстановку в\nПорядке «слева направо, сверху вниз». Число 0 обозначает пустое поле.\nНапример, массив [1, 2, 3, 4, 5, 6, 7, 8, 9, 10, 11, 12, 13, 14, 15, 0] представляет\nсобой «решенную» позицию элементов.\n#### Выходные данные: если решения нет, то функция должна вернуть\nПустой массив []. Если решение есть, то необходимо представить решение —\nдля каждого шага записывается номер передвигаемого на данном шаге\nэлемента. ",
      "metadata": {},
      "id": "hybrid-memorial"
    },
    {
      "cell_type": "code",
      "source": "revprint = collections.deque()\nclass Position:\n    def __init__(self, position, start_distance,finish_distance):\n        self.position = position\n        self.start_distance = start_distance\n        self.finish_distance = finish_distance\n\n    def __str__(self):\n        return '\\n'.join((N*'{:3}').format(*[i%(N*N) for i in self.position[i:]]) for i in range(0, N*N, N))\n\n    # Переопределяем метод less then для работы PriorityQueue\n    def __lt__(self, other):\n        return self.start_distance+self.finish_distance < other.start_distance+other.finish_distance\nN = 4\n# Генератор сдвигов\ndef shifts(position):\n# Находим индекс нуля\n    zeroPosition = position.index(0)\n# Находим его позицию в поле 4х4, где  i это номер строки,а j номер столбца\n    i, j = divmod(zeroPosition, N)\n    displacement = []\n# В зависимости от местоположения нуля, смотрим варианты, куда его можно сдвинуть\n    if i > 0: displacement.append(-N)     # вверх\n    if i < N - 1: displacement.append(N)  # вниз\n    if j > 0: displacement.append(-1)     # влево\n    if j < N - 1: displacement.append(1)  # вправо\n    for offset in displacement:\n# считаем индексы новых позиций нуля\n        swap = zeroPosition + offset\n# Выводим новое состояние поля, где 0 сдвинут в одном из возможных направлений\n        yield tuple(position[swap]\n        if x==zeroPosition\n        else position[zeroPosition]\n        if x==swap\n        else position[x]\n        for x in range(N*N))\n\n\n# Проверяет четность неправильных пар\ndef parityOfPairs(state):\n    countOfPairs = 0\n    for i in range(len(state)-1):\n        if state[i] > state[i+1]:\n            countOfPairs +=1\n    return countOfPairs % 2\ndef fifteenGame(startState):\n    terminalState = (1, 2, 3, 4, 5, 6, 7, 8, 9, 10, 11, 12, 13, 14, 15, 0)\n    # Если количество неправильных пар четное, то такая позиция нерешаема\n    if parityOfPairs(startState)==0:\n        print(\"Нет решений\")\n    else:\n    # В противном случае создаем из начальной позиции кортеж\n        startState= tuple(startState)\n    # создаем экзмепляр класса, с кортежем стартовой позиции в качестве параметра,длиной пути от начала до текущей точки\n    # и длиной от текущей позиции до конца\n        p = Position(startState, 0,0)\n\n    # Создаем экземпляр класса приоритетной очереди\n        fieldStates= PriorityQueue()\n    # Заносим в нее пару-это кортеж стартовой позиции, и вес данной вершины\n        fieldStates.put(p)\n    # Создаем множество посещенных вершин\n        closePoints = set([p])\n    # Создаем словарь в котором будем хранить позиции,где для каждой будет определена ее предыдущая позиция\n        parents = {p.position: None}\n\n    # Пока позиция не будет равна решению\n        while p.position != terminalState:\n    # Получаем приоритетную позицию\n            p =fieldStates.get()\n\n\n    # для каждого варианта передвижения нуля в одном состоянии поля\n            for k in shifts(p.position):\n                count= 0\n    # Если такой вариант передвижения не находится в списке посещенных\n                if k not in closePoints:\n    # Расчитаем растояние до терминального состояния, это количество цифр стоящих не на своих местах\n                    for m in range(len(k)):\n                        if k[m] != terminalState[m]:\n                            count+=1\n\n    # То мы заносим его в очередь, с состоянием в качестве параметра, длиной пути от старта до текущего сосотояния\n    # и длиной до финиша\n\n                    fieldStates.put(Position(k, p.start_distance +1,p.finish_distance+count))\n    # в словарь добавляем новый ключ, то есть эту позицию, его значением будет предыдущая позиция\n                    parents[k] = p\n\n    # Добавляем этот вариант перемещения в посещенный\n                    closePoints.add(k)\n\n        path = []\n        x = p\n        previous = p\n        while p.position != startState:\n\n    # Берем из словаря родителя текущего состояния поля\n\n            p = parents[p.position]\n\n\n# Запоминаем индекс нуля из текущего состояния и по этому индексу находим элемент, который сдвинули в предыдущем состоянии\n            number = p.position[previous.position.index(0)]\n            path.append(number)\n    # Предыдущее состояние делаем текущим\n            previous = p\n            revprint.append(p)\n\n    # Разворачиваем путь, чтобы получить путь от первого до последнего сдвига\n        path.reverse()\n    if parityOfPairs(startState)!=0:\n        for reverse_print in range(len(path)):\n            print(f\"\\n{revprint.pop()}\")\n        print(f\"\\n{x}\\n\\n{path}\\nЧисло шагов: {len(path)}\")\nstartState = [1,2,3,4,5,6,7,8,9,10,11,12,0,13,14,15]\nfifteenGame(startState)",
      "metadata": {},
      "execution_count": 8,
      "outputs": [
        {
          "name": "stdout",
          "output_type": "stream",
          "text": "\n\n  1  2  3  4\n\n  5  6  7  8\n\n  9 10 11 12\n\n  0 13 14 15\n\n\n\n  1  2  3  4\n\n  5  6  7  8\n\n  9 10 11 12\n\n 13  0 14 15\n\n\n\n  1  2  3  4\n\n  5  6  7  8\n\n  9 10 11 12\n\n 13 14  0 15\n\n\n\n  1  2  3  4\n\n  5  6  7  8\n\n  9 10 11 12\n\n 13 14 15  0\n\n\n\n[13, 14, 15]\n\nЧисло шагов: 3\n"
        }
      ],
      "id": "eleven-generic"
    },
    {
      "cell_type": "markdown",
      "source": "### Вывод",
      "metadata": {},
      "id": "arbitrary-amazon"
    },
    {
      "cell_type": "markdown",
      "source": "",
      "metadata": {},
      "id": "71bc58bf"
    }
  ]
}